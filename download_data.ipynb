{
 "cells": [
  {
   "cell_type": "code",
   "execution_count": null,
   "metadata": {},
   "outputs": [
    {
     "name": "stdout",
     "output_type": "stream",
     "text": [
      "Deleting data file\n",
      "Opening data file\n",
      "Downloading coincidences\n"
     ]
    },
    {
     "name": "stderr",
     "output_type": "stream",
     "text": [
      "100%|############################################################|Time: 2:26:55\n"
     ]
    },
    {
     "name": "stdout",
     "output_type": "stream",
     "text": [
      "Creating reconstructions\n"
     ]
    },
    {
     "name": "stderr",
     "output_type": "stream",
     "text": [
      "\r",
      "                                                                               \r",
      "\r",
      "N/A%|                                                           |ETA:  --:--:--"
     ]
    }
   ],
   "source": [
    "\"\"\"\n",
    "Bron van de code: https://github.com/HiSPARC/infopakket/blob/master/notebooks/10_sterrenkaart.md\n",
    "Merk op dat hier en daar iets is aangepast\n",
    "\"\"\"\n",
    "\n",
    "# dit notebook werkt onder Python 2 en 3\n",
    "from __future__ import division, print_function\n",
    "\n",
    "# importeer modules en functies\n",
    "from datetime import datetime\n",
    "import numpy as np\n",
    "import matplotlib.pyplot as plt\n",
    "import tables\n",
    "from sapphire import (download_coincidences, ReconstructESDCoincidences, HiSPARCStations)\n",
    "from sapphire.utils import pbar\n",
    "from sapphire.transformations.celestial import zenithazimuth_to_equatorial\n",
    "import os\n",
    "import time\n",
    "\n",
    "t0 = time.time()\n",
    "\n",
    "DATAFILE = 'scienceparkN3.h5'\n",
    "#STATIONS = [501, 502, 503, 505, 506, 508, 509, 510, 511] # science park\n",
    "STATIONS = [501, 502, 503, 504, 505, 506, 507, 508, 509, 510, 511]  # science park cluster\n",
    "\n",
    "#STATIONS = [305, 304, 301]  # 1,75 km uit elkaar\n",
    "\n",
    "\"\"\"\n",
    "Waarschijnlijk moeten stations uit nijmegen gebruikt worden, deze zijn het oudst (data vanaf 2014).\n",
    "\"\"\"\n",
    "\n",
    "#STATIONS = [2003, 2004, 2005, 2008, 2001, 2002, 2006]\n",
    "\n",
    "START = datetime(2016, 3, 1)\n",
    "END = datetime(2018, 3, 1)\n",
    "N = 3  # Voor reconstructions minimum N=3\n",
    "\n",
    "force_datafile_overwrite = True\n",
    "show_events = False\n",
    "\n",
    "if __name__ == '__main__':\n",
    "    if force_datafile_overwrite:\n",
    "        try:\n",
    "            print('Deleting data file')\n",
    "            os.remove(DATAFILE)\n",
    "        except:\n",
    "            print('Could not delete file')\n",
    "            pass\n",
    "    #if 'data' not in globals(): # Blijft in globals zitten bij gebruik van notebooks\n",
    "        # ‘a’: Append; an existing file is opened for reading and writing, and if the file does not exist it is created.\n",
    "    print('Opening data file')\n",
    "    data = tables.open_file(DATAFILE, 'a')\n",
    "    if '/coincidences' not in data:\n",
    "        print('Downloading coincidences')\n",
    "        download_coincidences(data, stations=STATIONS, start=START, end=END, n=N)\n",
    "    if len(data.root.coincidences.coincidences) == 0:\n",
    "        print('Aantel showers == 0, exit()')\n",
    "        exit()\n",
    "    if '/coincidences/reconstructions' not in data:\n",
    "        print('Creating reconstructions')\n",
    "        rec = ReconstructESDCoincidences(data, overwrite=True)\n",
    "        rec.reconstruct_and_store()\n",
    "    if len(data.root.coincidences.reconstructions.read()) == 0:\n",
    "        print('Aantel recs == 0, exit()')\n",
    "        exit()\n",
    "\n",
    "t1 = time.time()\n",
    "print('Datafile preperation took: %.2f' % (t1-t0))\n",
    "\n",
    "print(\"Aantal showers (coincidenties n=%d stations): %d \" % (N, len(data.root.coincidences.coincidences)))\n",
    "data.close()"
   ]
  },
  {
   "cell_type": "code",
   "execution_count": null,
   "metadata": {},
   "outputs": [],
   "source": []
  }
 ],
 "metadata": {
  "kernelspec": {
   "display_name": "Python 3",
   "language": "python",
   "name": "python3"
  },
  "language_info": {
   "codemirror_mode": {
    "name": "ipython",
    "version": 3
   },
   "file_extension": ".py",
   "mimetype": "text/x-python",
   "name": "python",
   "nbconvert_exporter": "python",
   "pygments_lexer": "ipython3",
   "version": "3.6.0"
  }
 },
 "nbformat": 4,
 "nbformat_minor": 2
}
