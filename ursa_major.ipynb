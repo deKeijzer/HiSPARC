{
 "cells": [
  {
   "cell_type": "code",
   "execution_count": 15,
   "metadata": {},
   "outputs": [
    {
     "name": "stdout",
     "output_type": "stream",
     "text": [
      "-----READY-----\n"
     ]
    }
   ],
   "source": [
    "\"\"\"\n",
    "- Download data\n",
    "- Zoekt naar concidenties tussen STATIONS met een variabele 'coincidence time window'. \n",
    "- Berekend de richting van afkomst\n",
    "- Plot de afkomstrichting\n",
    "\n",
    "TO DO:\n",
    "- 'Coincidence time window' automatisch berekenen voor de gebruikte stations n.a.v. de onderlinge afstand.\n",
    "\"\"\"\n",
    "\n",
    "import tables\n",
    "import datetime\n",
    "import sapphire as s\n",
    "import os\n",
    "import time\n",
    "import matplotlib.pyplot as plt\n",
    "import numpy as np\n",
    "import sys\n",
    "from sapphire.utils import pbar\n",
    "from sapphire.transformations.celestial import zenithazimuth_to_equatorial\n",
    "\n",
    "global data, show_events, DATAFILE, events\n",
    "\n",
    "def bewerk_data():\n",
    "    global DATAFILE, events\n",
    "    t3 = time.time()\n",
    "\n",
    "    try:\n",
    "        data = tables.open_file(DATAFILE, 'r+')\n",
    "    except:\n",
    "        print('Could not open data file, exit()')\n",
    "        sys.exit()\n",
    "        pass\n",
    "\n",
    "    t4 = time.time()\n",
    "    print('Opening data took: %.5f' % (t4-t3))\n",
    "    print('Aantal coincidenties: %s' % len(data.root.coincidences.coincidences))\n",
    "    print(\"Aantal reconstructions: %d \" % (len(data.root.coincidences.reconstructions)))\n",
    "\n",
    "    recs = data.root.coincidences.reconstructions.read()\n",
    "\n",
    "    data.close()\n",
    "    theta = recs['zenith']\n",
    "    recs = recs.compress(~np.isnan(theta))\n",
    "    \n",
    "    if len(recs) == 0:\n",
    "        print('Recs == 0, exit()')\n",
    "        sys.exit()\n",
    "\n",
    "    t5 = time.time()\n",
    "    print('Removing NaNs from recs[theta] took: %.5f' % (t5-t4))\n",
    "\n",
    "    print(\"Aantal reconstructions : %.2f \" % (len(recs)))\n",
    "\n",
    "    lla = s.HiSPARCStations(STATIONS).get_lla_coordinates()\n",
    "    lat, lon, alt = lla\n",
    "\n",
    "    t6 = time.time()\n",
    "    print('get_lla_coordinates() took: %.5f' % (t6-t5))\n",
    "\n",
    "    events = []\n",
    "    for rec in pbar(recs):\n",
    "        # omzetten naar 1 functie die matrix rekening doet? 1.5mil punten duurd 3 minuten\n",
    "        timestamp = rec['ext_timestamp'] / 1.e9\n",
    "        theta = rec['zenith']\n",
    "        phi = rec['azimuth']\n",
    "        r, d = zenithazimuth_to_equatorial(lat, lon, timestamp, theta, phi)  # Zelf maken zodat het sneller gaat?\n",
    "        events.append((r-np.pi, d))\n",
    "    events = np.array(events)\n",
    "\n",
    "    t7 = time.time()\n",
    "    print('Creating events = np.array(events) took: %.5f' % (t7-t6))\n",
    "\n",
    "    ra = np.degrees(events[:, 0])\n",
    "\n",
    "    dec = np.degrees(events[:, 1])\n",
    "\n",
    "    t8 = time.time()\n",
    "    print('RA & DEC naar degrees omzetten took: %.5f' % (t8-t7))\n",
    "\n",
    "\n",
    "    t9 = time.time()\n",
    "    print('Total runtime: %.2f' % (t9-t8))\n",
    "\n",
    "    np.savetxt(file_name+'.csv', events, delimiter=\"\\t\")\n",
    "\n",
    "    print('-----READY-----')\n",
    "\n",
    "def plot_events_on_mollweide(events, filename=None):\n",
    "    # Plot events (een lijst van RA, DEC tuples) op een kaart in Mollweide projectie\"\"\"\n",
    "\n",
    "    # Let op: De RA-as is gespiegeld. Alle RA coordinates worden gespiegeld (negatief)\n",
    "    # geplot.\n",
    "    # RA, DEC tuples van het steelpan asterisme in het sterrenbeeld Grote Beer\n",
    "    \"\"\"\n",
    "    RA en DEC zijn vindbaar met Aladin.\n",
    "    Coordinaten daarvandaan pakken en dan een functie maken voor het omzetten naar graden?\n",
    "    \"\"\"\n",
    "    global show_events\n",
    "    steelpan = np.array([[13.792222, 49.3167], [13.398889, 54.9333], [12.900556, 55.95],\n",
    "                         [12.257222, 57.0333], [11.896944, 53.7000], [11.030833, 56.3833],\n",
    "                         [11.062222, 61.7500], [12.257222, 57.0333]])\n",
    "\n",
    "    # Melkweg contouren als lijst van RA, DEC paren.\n",
    "    # `milky_way.npy` heeft *geen* verbinding tussen RA 23h59 en 0h00 en `milky_way_polar.npy` wel.\n",
    "    try:\n",
    "        mw_contour = np.load('data\\\\numpy\\\\milky_way.npy')\n",
    "        print('Loaded .npy files')\n",
    "    except:\n",
    "        mw_contour = []\n",
    "        print('Failed to load .npy files')\n",
    "\n",
    "    events = np.array(events)\n",
    "\n",
    "    fig = plt.figure(figsize=(15, 15))\n",
    "    #fig = plt.figure()\n",
    "    ax = fig.add_subplot(111, projection=\"mollweide\")\n",
    "    \n",
    "        # plot milky way contours\n",
    "    for ra_mw, dec_mw in mw_contour:\n",
    "        ax.plot(-ra_mw, dec_mw, color='grey')\n",
    "    \n",
    "    # let op: De RA as is gespiegeld:\n",
    "    ax.set_xticklabels(['22', '20', '18', '16', '14', '12', '10', '8,0', '6,0', '4,0', '2,0'], fontsize='large')\n",
    "    ax.set_yticklabels(['-75', '-60', '-45', '-30', '-15', '0', '15', '30', '45', '60', '75'], fontsize='large')\n",
    "    ax.grid(True)\n",
    "    ax.tick_params(axis='x', colors='white')\n",
    "    ax.xaxis.label.set_color('white')\n",
    "    ax.xaxis.set_label_coords(.5, .49)\n",
    "\n",
    "    \"\"\"\n",
    "    Plot bron:\n",
    "    https://python-graph-gallery.com/85-density-plot-with-matplotlib/\n",
    "    \"\"\"\n",
    "    from scipy.stats import kde\n",
    "    x = -events[:, 0]\n",
    "    y = events[:, 1]\n",
    "\n",
    "    \n",
    "    # Evaluate a gaussian kde on a regular grid of nbins x nbins over data extents\n",
    "    t10 = time.time()\n",
    "    \n",
    "    nbins = 200\n",
    "    k = kde.gaussian_kde([x, y])\n",
    "    \n",
    "    t11 = time.time()\n",
    "    print('kde.gaussian_kde: %.2f s' % (t11-t10))\n",
    "    \n",
    "    xi, yi = np.mgrid[x.min():x.max():nbins * 1j, y.min():y.max():nbins * 1j]\n",
    "    \n",
    "    t12 = time.time()\n",
    "    print('np.mgrid: %.2f s' % (t12-t11))\n",
    "    \n",
    "    zi = k(np.vstack([xi.flatten(), yi.flatten()]))\n",
    "    \n",
    "    t13 = time.time()\n",
    "    print('np.vstack: %.2f s' % (t13-t12))\n",
    "    \"\"\" \n",
    "    Colormaps: https://matplotlib.org/examples/color/colormaps_reference.html\n",
    "    jet\n",
    "\n",
    "    \"\"\"\n",
    "    plt.pcolormesh(xi, yi, zi.reshape(xi.shape), cmap=plt.cm.jet, alpha=1)\n",
    "    \n",
    "    t14 = time.time()\n",
    "    print(' plt.pcolormesh: %.2f s' % (t14-t13))\n",
    "    \n",
    "    plt.colorbar(shrink=0.5, pad=0.01)\n",
    "    if show_events:\n",
    "        ax.scatter(-events[:, 0], events[:, 1], marker='x', alpha=.99, color='grey', label='events')\n",
    "\n",
    "    # plot steelpan in UMa\n",
    "    ra_uma = np.radians(steelpan[:, 0] / 24 * 360 - 180.)\n",
    "    dec_uma = np.radians(steelpan[:, 1])\n",
    "    ax.plot(-ra_uma, dec_uma, color='white')\n",
    "    ax.scatter(-ra_uma, dec_uma, color='white', s=10)\n",
    "\n",
    "    # plot Polaris\n",
    "    #ax.scatter(0., np.radians(90.), color='white', marker='*')\n",
    "    #ax.text(np.radians(2.), np.radians(78.), 'Polaris', color='white', fontsize='10')\n",
    "\n",
    "    # plot Galactic Center (RA 17h45, DEC -29)\n",
    "    #ax.scatter(-np.radians(17.75 / 24 * 360 - 180.), np.radians(-29), color='white', marker='*')\n",
    "    #ax.text(-np.radians(17.75 / 24 * 360 - 180. +2.), np.radians(-29 - 6.), 'Galactic Center', color='white', fontsize='10')\n",
    "\n",
    "    plt.grid(alpha=.3)\n",
    "    plt.xlabel('Rechte klimming [h]', fontsize='large')\n",
    "    plt.ylabel('Declinatie [°]', fontsize='large')\n",
    "    plt.tight_layout()\n",
    "    #plt.legend()\n",
    "\n",
    "    if filename:\n",
    "        plt.savefig(filename, dpi=200, bbox_inches='tight')\n",
    "    plt.show()\n",
    "\n",
    "def refresh_data():\n",
    "    global data\n",
    "    try: \n",
    "        data.flush()\n",
    "        data.close()\n",
    "    except:\n",
    "        pass\n",
    "    data = tables.open_file(DATAFILE, 'a')\n",
    "\n",
    "print('-----READY-----')"
   ]
  },
  {
   "cell_type": "code",
   "execution_count": 16,
   "metadata": {},
   "outputs": [
    {
     "name": "stdout",
     "output_type": "stream",
     "text": [
      "Data file closed\n",
      "Downloading took: 0.03 s\n",
      "----- READY -----\n"
     ]
    }
   ],
   "source": [
    "t0 = time.time()\n",
    "\n",
    "STATIONS = [2003, 2004, 2005, 2002] # Nijmegen\n",
    "#STATIONS = [501, 502, 503]\n",
    "START = datetime.datetime(2000, 1, 1)\n",
    "END = datetime.datetime(2018, 6, 2)\n",
    "N = 4\n",
    "file_name = 'tele2'\n",
    "#DATAFILE = 'data\\\\download\\\\'+file_name+'.h5'\n",
    "DATAFILE = 'F:\\\\HiSPARC\\\\download\\\\'+file_name+'.h5'\n",
    "\n",
    "overwrite = False\n",
    "\n",
    "try:\n",
    "    data.close()\n",
    "    print('Data file closed')\n",
    "except Exception as e:\n",
    "    print('Could not close data file: %s' % e)\n",
    "    pass\n",
    "\n",
    "if __name__ == '__main__':\n",
    "    if overwrite:\n",
    "        try:\n",
    "            os.remove(DATAFILE)\n",
    "            print('Deleted data file')\n",
    "        except Exception as e: \n",
    "            print('Could not delete data file: %s' % e) # Print de error die plaatsvindt\n",
    "    data = tables.open_file(DATAFILE, 'a')\n",
    "    station_groups = ['/station_%d' % u for u in STATIONS] # Deze 4 regels kunnen netter\n",
    "    if overwrite:\n",
    "        for station, group in zip(STATIONS, station_groups):\n",
    "            s.download_data(data, group, station, START, END)\n",
    "\n",
    "#print('Number of events for station %s: %s' %(2003, len(data.root.station_2003.events)))\n",
    "t1 = time.time()\n",
    "print('Downloading took: %.2f s' % (t1-t0))\n",
    "print('----- READY -----')"
   ]
  },
  {
   "cell_type": "code",
   "execution_count": 20,
   "metadata": {},
   "outputs": [
    {
     "name": "stderr",
     "output_type": "stream",
     "text": [
      "100%|############################################################|Time: 0:10:09\n",
      "100%|############################################################|Time: 0:06:14\n",
      "100%|############################################################|Time: 0:00:18\n"
     ]
    },
    {
     "name": "stdout",
     "output_type": "stream",
     "text": [
      "Number of coincidences: 26650\n",
      "Searching and storing coincidences took: 1914.73 s\n",
      "----- READY -----\n"
     ]
    }
   ],
   "source": [
    "t2 = time.time()\n",
    "\n",
    "\"\"\"\n",
    "Herlaadt data zodat '/coincidences' in erin komt te staan, indien deze cell eerder is afgespeelt.\n",
    "Vervolgens word deze group uit '/' (root) verwijderd, ze zijn tenslotte ''oud''.\n",
    "Tot slot worden de coincidenties met de huidige instellingen gedownload.\n",
    "\"\"\"\n",
    "if '/coincidences' in data:\n",
    "    try:\n",
    "        refresh_data()\n",
    "        data.remove_node('/',name='coincidences', recursive=True)\n",
    "    except:\n",
    "        pass\n",
    "\n",
    "with s.CoincidencesESD(DATAFILE, '/coincidences', station_groups, overwrite=True) as coin:\n",
    "    coin.search_coincidences(window=50000) # window – the coincidence time window in nanoseconds.  Origineel 5000\n",
    "    coin.store_coincidences(STATIONS)\n",
    "\n",
    "print('Number of coincidences: %s' % len(data.root.coincidences.coincidences))\n",
    "t3 = time.time()\n",
    "print('Searching and storing coincidences took: %.2f s' % (t3-t2))\n",
    "print('----- READY -----')"
   ]
  },
  {
   "cell_type": "code",
   "execution_count": 21,
   "metadata": {},
   "outputs": [
    {
     "name": "stderr",
     "output_type": "stream",
     "text": [
      "c:\\program files\\python36\\lib\\site-packages\\sapphire\\clusters.py:873: UserWarning: Could not get detector layout for stations [2003, 2004, 2005, 2002], defaults will be used!\n",
      "  'defaults will be used!' % str(missing_detectors))\n"
     ]
    },
    {
     "name": "stdout",
     "output_type": "stream",
     "text": [
      "Constructed cluster HiSPARCStations([2003, 2004, 2005, 2002]) from public database.\n"
     ]
    },
    {
     "name": "stderr",
     "output_type": "stream",
     "text": [
      "\r",
      "                                                                               \r",
      "\r",
      "N/A%|                                                           |ETA:  --:--:--"
     ]
    },
    {
     "name": "stdout",
     "output_type": "stream",
     "text": [
      "Using timing offsets from public database.\n"
     ]
    },
    {
     "name": "stderr",
     "output_type": "stream",
     "text": [
      "c:\\program files\\python36\\lib\\site-packages\\sapphire\\analysis\\event_utils.py:101: RuntimeWarning: All-NaN axis encountered\n",
      "  station))\n",
      "100%|############################################################|Time: 0:06:38\n",
      "N/A%|                                                           |ETA:  --:--:--c:\\program files\\python36\\lib\\site-packages\\sapphire\\analysis\\event_utils.py:33: RuntimeWarning: Mean of empty slice\n",
      "  station=station))\n",
      "100%|############################################################|Time: 0:01:23\n"
     ]
    },
    {
     "name": "stdout",
     "output_type": "stream",
     "text": [
      "Number of reconstructions: 26650\n",
      "Creating reconstructions took: 817.86 s\n",
      "----- READY -----\n"
     ]
    }
   ],
   "source": [
    "t0 = time.time()\n",
    "\n",
    "try:\n",
    "    refresh_data()\n",
    "    data.remove_node('/coincidences',name='reconstructions', recursive=True)\n",
    "except:\n",
    "    pass\n",
    "\n",
    "rec = s.analysis.reconstructions.ReconstructESDCoincidences(data, verbose=True, overwrite=True)\n",
    "rec.reconstruct_and_store()\n",
    "\n",
    "t1 = time.time()\n",
    "print('Number of reconstructions: %s' % len(data.root.coincidences.reconstructions))\n",
    "print('Creating reconstructions took: %.2f s' % (t1-t0))\n",
    "print('----- READY -----')"
   ]
  },
  {
   "cell_type": "code",
   "execution_count": 22,
   "metadata": {},
   "outputs": [
    {
     "name": "stdout",
     "output_type": "stream",
     "text": [
      "Opening data took: 0.02755\n",
      "Aantal coincidenties: 26650\n",
      "Aantal reconstructions: 26650 \n",
      "Recs == 0, exit()\n"
     ]
    },
    {
     "ename": "SystemExit",
     "evalue": "",
     "output_type": "error",
     "traceback": [
      "An exception has occurred, use %tb to see the full traceback.\n",
      "\u001b[1;31mSystemExit\u001b[0m\n"
     ]
    },
    {
     "name": "stderr",
     "output_type": "stream",
     "text": [
      "c:\\program files\\python36\\lib\\site-packages\\IPython\\core\\interactiveshell.py:2918: UserWarning: To exit: use 'exit', 'quit', or Ctrl-D.\n",
      "  warn(\"To exit: use 'exit', 'quit', or Ctrl-D.\", stacklevel=1)\n"
     ]
    }
   ],
   "source": [
    "bewerk_data()"
   ]
  },
  {
   "cell_type": "code",
   "execution_count": null,
   "metadata": {},
   "outputs": [],
   "source": [
    "show_events = False\n",
    "events = np.loadtxt(file_name+\".csv\")\n",
    "events = np.append(events, [[-1.57, -1.57]], axis=0) # een punt toevoegen zodat de gehele plot ingekleurd is.\n",
    "t15 = time.time()\n",
    "\n",
    "plot_events_on_mollweide(events, filename='figuren\\\\'+file_name+'.png')\n",
    "\n",
    "t16 = time.time()\n",
    "print('Plotting took: %.2f s' % (t16-t15))"
   ]
  },
  {
   "cell_type": "code",
   "execution_count": null,
   "metadata": {},
   "outputs": [],
   "source": []
  },
  {
   "cell_type": "code",
   "execution_count": null,
   "metadata": {},
   "outputs": [],
   "source": [
    "def calc_time_window():\n",
    "    \"\"\"\n",
    "    Zie klad eigen: 5000 ns is voor een shower van ~60 graden (totaal dus 2*60 graden)\n",
    "    Neem x_prime lorentz transformatie, haal x eruit en vul in:\n",
    "    t' = levensduur muon (komt voort uit schatting met t' berekenen, t=5000ns x=200)\n",
    "    t = 5000 ns\n",
    "    \"\"\"\n",
    "    afstanden = [500, 10, 1000]\n",
    "    x = max(afstanden)\n",
    "    \n",
    "    c = 299792458\n",
    "    v = 0.98*c\n",
    "    t_prime = 2.1969811*10**-6 # Muon levensduur\n",
    "    gamma = 1/np.sqrt(1-(v**2/c**2))\n",
    "    t=(t_prime+v*x/c)*1/gamma\n",
    "    return t\n",
    "calc_time_window()"
   ]
  },
  {
   "cell_type": "code",
   "execution_count": null,
   "metadata": {},
   "outputs": [],
   "source": []
  }
 ],
 "metadata": {
  "kernelspec": {
   "display_name": "Python 3",
   "language": "python",
   "name": "python3"
  },
  "language_info": {
   "codemirror_mode": {
    "name": "ipython",
    "version": 3
   },
   "file_extension": ".py",
   "mimetype": "text/x-python",
   "name": "python",
   "nbconvert_exporter": "python",
   "pygments_lexer": "ipython3",
   "version": "3.6.0"
  }
 },
 "nbformat": 4,
 "nbformat_minor": 2
}
