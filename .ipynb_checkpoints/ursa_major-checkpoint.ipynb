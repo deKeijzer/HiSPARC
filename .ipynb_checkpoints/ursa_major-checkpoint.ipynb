{
 "cells": [
  {
   "cell_type": "code",
   "execution_count": 1,
   "metadata": {},
   "outputs": [],
   "source": [
    "import tables\n",
    "import datetime\n",
    "import sapphire as s\n",
    "import os\n",
    "\n",
    "global data"
   ]
  },
  {
   "cell_type": "code",
   "execution_count": 2,
   "metadata": {},
   "outputs": [
    {
     "name": "stdout",
     "output_type": "stream",
     "text": [
      "Could not close data file\n",
      "Deleted data file\n"
     ]
    },
    {
     "name": "stderr",
     "output_type": "stream",
     "text": [
      "100%|############################################################|Time: 0:00:02\n",
      "100%|############################################################|Time: 0:00:01\n",
      "100%|############################################################|Time: 0:00:00\n"
     ]
    },
    {
     "name": "stdout",
     "output_type": "stream",
     "text": [
      "----- READY -----\n"
     ]
    }
   ],
   "source": [
    "#STATIONS = [2003, 2004, 2005, 2002] # Nijmegen\n",
    "STATIONS = [501, 502, 503]\n",
    "START = datetime.datetime(2014, 1, 1)\n",
    "END = datetime.datetime(2014, 1, 2)\n",
    "N = 4\n",
    "file_name = 'data'\n",
    "DATAFILE = 'data\\\\download\\\\'+file_name+'.h5'\n",
    "overwrite = True\n",
    "\n",
    "try:\n",
    "    data.close()\n",
    "    print('Data file closed')\n",
    "except:\n",
    "    print('Could not close data file')\n",
    "    pass\n",
    "\n",
    "if __name__ == '__main__':\n",
    "    if overwrite:\n",
    "        try:\n",
    "            os.remove(DATAFILE)\n",
    "            print('Deleted data file')\n",
    "        except:\n",
    "            print('Could not delete data file')\n",
    "            pass\n",
    "    station_groups = ['/s%d' % u for u in STATIONS]\n",
    "\n",
    "    data = tables.open_file(DATAFILE, 'a')\n",
    "    for station, group in zip(STATIONS, station_groups):\n",
    "        s.download_data(data, group, station, START, END)\n",
    "\n",
    "def refresh_data():\n",
    "    global data\n",
    "    data.flush()\n",
    "    data.close()\n",
    "    data = tables.open_file(DATAFILE, 'a')\n",
    "        \n",
    "print('----- READY -----')"
   ]
  },
  {
   "cell_type": "code",
   "execution_count": 3,
   "metadata": {},
   "outputs": [
    {
     "name": "stderr",
     "output_type": "stream",
     "text": [
      "100%|############################################################|Time: 0:00:00\n",
      "100%|############################################################|Time: 0:00:00\n",
      "100%|############################################################|Time: 0:00:02\n"
     ]
    },
    {
     "name": "stdout",
     "output_type": "stream",
     "text": [
      "Number of coincidences: 3014\n"
     ]
    }
   ],
   "source": [
    "with s.CoincidencesESD(DATAFILE, '/coincidences', station_groups, overwrite=True) as coin:\n",
    "    coin.search_coincidences(window=5000) # window – the coincidence time window in nanoseconds. All events with delta t’s smaller than this window will be considered a coincidence.\n",
    "    coin.store_coincidences(STATIONS)\n",
    "\n",
    "print('Number of coincidences: %s' % len(data.root.coincidences.coincidences))\n",
    "\n",
    "#refresh_data()"
   ]
  },
  {
   "cell_type": "code",
   "execution_count": 4,
   "metadata": {},
   "outputs": [
    {
     "ename": "ValueError",
     "evalue": "invalid literal for int() with base 10: b'/s501'",
     "output_type": "error",
     "traceback": [
      "\u001b[1;31m---------------------------------------------------------------------------\u001b[0m",
      "\u001b[1;31mAttributeError\u001b[0m                            Traceback (most recent call last)",
      "\u001b[1;32mc:\\program files\\python36\\lib\\site-packages\\sapphire\\analysis\\reconstructions.py\u001b[0m in \u001b[0;36m__init__\u001b[1;34m(self, data, coincidences_group, overwrite, progress, verbose, destination, cluster, force_fresh, force_stale)\u001b[0m\n\u001b[0;32m    371\u001b[0m                 self.cluster = self.data.get_node_attr(self.coincidences_group,\n\u001b[1;32m--> 372\u001b[1;33m                                                        'cluster')\n\u001b[0m\u001b[0;32m    373\u001b[0m                 \u001b[1;32mif\u001b[0m \u001b[0mself\u001b[0m\u001b[1;33m.\u001b[0m\u001b[0mverbose\u001b[0m\u001b[1;33m:\u001b[0m\u001b[1;33m\u001b[0m\u001b[0m\n",
      "\u001b[1;32mc:\\program files\\python36\\lib\\site-packages\\tables\\file.py\u001b[0m in \u001b[0;36mget_node_attr\u001b[1;34m(self, where, attrname, name)\u001b[0m\n\u001b[0;32m   1775\u001b[0m         \u001b[0mobj\u001b[0m \u001b[1;33m=\u001b[0m \u001b[0mself\u001b[0m\u001b[1;33m.\u001b[0m\u001b[0mget_node\u001b[0m\u001b[1;33m(\u001b[0m\u001b[0mwhere\u001b[0m\u001b[1;33m,\u001b[0m \u001b[0mname\u001b[0m\u001b[1;33m=\u001b[0m\u001b[0mname\u001b[0m\u001b[1;33m)\u001b[0m\u001b[1;33m\u001b[0m\u001b[0m\n\u001b[1;32m-> 1776\u001b[1;33m         \u001b[1;32mreturn\u001b[0m \u001b[0mobj\u001b[0m\u001b[1;33m.\u001b[0m\u001b[0m_f_getattr\u001b[0m\u001b[1;33m(\u001b[0m\u001b[0mattrname\u001b[0m\u001b[1;33m)\u001b[0m\u001b[1;33m\u001b[0m\u001b[0m\n\u001b[0m\u001b[0;32m   1777\u001b[0m \u001b[1;33m\u001b[0m\u001b[0m\n",
      "\u001b[1;32mc:\\program files\\python36\\lib\\site-packages\\tables\\node.py\u001b[0m in \u001b[0;36m_f_getattr\u001b[1;34m(self, name)\u001b[0m\n\u001b[0;32m    886\u001b[0m \u001b[1;33m\u001b[0m\u001b[0m\n\u001b[1;32m--> 887\u001b[1;33m         \u001b[1;32mreturn\u001b[0m \u001b[0mgetattr\u001b[0m\u001b[1;33m(\u001b[0m\u001b[0mself\u001b[0m\u001b[1;33m.\u001b[0m\u001b[0m_v_attrs\u001b[0m\u001b[1;33m,\u001b[0m \u001b[0mname\u001b[0m\u001b[1;33m)\u001b[0m\u001b[1;33m\u001b[0m\u001b[0m\n\u001b[0m\u001b[0;32m    888\u001b[0m \u001b[1;33m\u001b[0m\u001b[0m\n",
      "\u001b[1;32mc:\\program files\\python36\\lib\\site-packages\\tables\\attributeset.py\u001b[0m in \u001b[0;36m__getattr__\u001b[1;34m(self, name)\u001b[0m\n\u001b[0;32m    291\u001b[0m             raise AttributeError(\"Attribute '%s' does not exist in node: \"\n\u001b[1;32m--> 292\u001b[1;33m                                  \"'%s'\" % (name, self._v__nodepath))\n\u001b[0m\u001b[0;32m    293\u001b[0m \u001b[1;33m\u001b[0m\u001b[0m\n",
      "\u001b[1;31mAttributeError\u001b[0m: Attribute 'cluster' does not exist in node: '/coincidences'",
      "\nDuring handling of the above exception, another exception occurred:\n",
      "\u001b[1;31mValueError\u001b[0m                                Traceback (most recent call last)",
      "\u001b[1;32m<ipython-input-4-c17a1da2436e>\u001b[0m in \u001b[0;36m<module>\u001b[1;34m()\u001b[0m\n\u001b[1;32m----> 1\u001b[1;33m \u001b[0mrec\u001b[0m \u001b[1;33m=\u001b[0m \u001b[0ms\u001b[0m\u001b[1;33m.\u001b[0m\u001b[0manalysis\u001b[0m\u001b[1;33m.\u001b[0m\u001b[0mreconstructions\u001b[0m\u001b[1;33m.\u001b[0m\u001b[0mReconstructESDCoincidences\u001b[0m\u001b[1;33m(\u001b[0m\u001b[0mdata\u001b[0m\u001b[1;33m,\u001b[0m \u001b[0mverbose\u001b[0m\u001b[1;33m=\u001b[0m\u001b[1;32mTrue\u001b[0m\u001b[1;33m,\u001b[0m \u001b[0moverwrite\u001b[0m\u001b[1;33m=\u001b[0m\u001b[1;32mTrue\u001b[0m\u001b[1;33m)\u001b[0m\u001b[1;33m\u001b[0m\u001b[0m\n\u001b[0m",
      "\u001b[1;32mc:\\program files\\python36\\lib\\site-packages\\sapphire\\analysis\\reconstructions.py\u001b[0m in \u001b[0;36m__init__\u001b[1;34m(self, data, coincidences_group, overwrite, progress, verbose, destination, cluster, force_fresh, force_stale)\u001b[0m\n\u001b[0;32m    374\u001b[0m                     \u001b[0mprint\u001b[0m\u001b[1;33m(\u001b[0m\u001b[1;34m'Read cluster %s from datafile.'\u001b[0m \u001b[1;33m%\u001b[0m \u001b[0mself\u001b[0m\u001b[1;33m.\u001b[0m\u001b[0mcluster\u001b[0m\u001b[1;33m)\u001b[0m\u001b[1;33m\u001b[0m\u001b[0m\n\u001b[0;32m    375\u001b[0m             \u001b[1;32mexcept\u001b[0m \u001b[0mAttributeError\u001b[0m\u001b[1;33m:\u001b[0m\u001b[1;33m\u001b[0m\u001b[0m\n\u001b[1;32m--> 376\u001b[1;33m                 \u001b[0ms_active\u001b[0m \u001b[1;33m=\u001b[0m \u001b[0mself\u001b[0m\u001b[1;33m.\u001b[0m\u001b[0m_get_active_stations\u001b[0m\u001b[1;33m(\u001b[0m\u001b[1;33m)\u001b[0m\u001b[1;33m\u001b[0m\u001b[0m\n\u001b[0m\u001b[0;32m    377\u001b[0m                 self.cluster = HiSPARCStations(s_active,\n\u001b[0;32m    378\u001b[0m                                                \u001b[0mforce_fresh\u001b[0m\u001b[1;33m=\u001b[0m\u001b[0mforce_fresh\u001b[0m\u001b[1;33m,\u001b[0m\u001b[1;33m\u001b[0m\u001b[0m\n",
      "\u001b[1;32mc:\\program files\\python36\\lib\\site-packages\\sapphire\\analysis\\reconstructions.py\u001b[0m in \u001b[0;36m_get_active_stations\u001b[1;34m(self)\u001b[0m\n\u001b[0;32m    540\u001b[0m             \u001b[1;32mif\u001b[0m \u001b[1;32mnot\u001b[0m \u001b[0mstation_event_table\u001b[0m\u001b[1;33m.\u001b[0m\u001b[0mnrows\u001b[0m\u001b[1;33m:\u001b[0m\u001b[1;33m\u001b[0m\u001b[0m\n\u001b[0;32m    541\u001b[0m                 \u001b[1;32mcontinue\u001b[0m\u001b[1;33m\u001b[0m\u001b[0m\n\u001b[1;32m--> 542\u001b[1;33m             \u001b[0mactive_stations\u001b[0m\u001b[1;33m.\u001b[0m\u001b[0mappend\u001b[0m\u001b[1;33m(\u001b[0m\u001b[0mint\u001b[0m\u001b[1;33m(\u001b[0m\u001b[0ms_path\u001b[0m\u001b[1;33m.\u001b[0m\u001b[0msplit\u001b[0m\u001b[1;33m(\u001b[0m\u001b[1;34mb'station_'\u001b[0m\u001b[1;33m)\u001b[0m\u001b[1;33m[\u001b[0m\u001b[1;33m-\u001b[0m\u001b[1;36m1\u001b[0m\u001b[1;33m]\u001b[0m\u001b[1;33m)\u001b[0m\u001b[1;33m)\u001b[0m\u001b[1;33m\u001b[0m\u001b[0m\n\u001b[0m\u001b[0;32m    543\u001b[0m \u001b[1;33m\u001b[0m\u001b[0m\n\u001b[0;32m    544\u001b[0m         \u001b[1;32mreturn\u001b[0m \u001b[0mactive_stations\u001b[0m\u001b[1;33m\u001b[0m\u001b[0m\n",
      "\u001b[1;31mValueError\u001b[0m: invalid literal for int() with base 10: b'/s501'"
     ]
    }
   ],
   "source": [
    "rec = s.analysis.reconstructions.ReconstructESDCoincidences(data, verbose=True, overwrite=True)"
   ]
  },
  {
   "cell_type": "code",
   "execution_count": null,
   "metadata": {},
   "outputs": [],
   "source": []
  }
 ],
 "metadata": {
  "kernelspec": {
   "display_name": "Python 3",
   "language": "python",
   "name": "python3"
  },
  "language_info": {
   "codemirror_mode": {
    "name": "ipython",
    "version": 3
   },
   "file_extension": ".py",
   "mimetype": "text/x-python",
   "name": "python",
   "nbconvert_exporter": "python",
   "pygments_lexer": "ipython3",
   "version": "3.6.0"
  }
 },
 "nbformat": 4,
 "nbformat_minor": 2
}
