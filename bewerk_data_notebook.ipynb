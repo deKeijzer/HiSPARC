{
 "cells": [
  {
   "cell_type": "code",
   "execution_count": 26,
   "metadata": {},
   "outputs": [
    {
     "name": "stdout",
     "output_type": "stream",
     "text": [
      "Opening data took: 0.00042\n",
      "Aantal coincidenties: 2581262\n",
      "Removing NaNs from recs[theta] took: 0.43782\n",
      "Aantal reconstructions : 1555582.00 \n",
      "get_lla_coordinates() took: 3.56304\n"
     ]
    },
    {
     "name": "stderr",
     "output_type": "stream",
     "text": [
      "c:\\program files\\python36\\lib\\site-packages\\sapphire\\clusters.py:873: UserWarning: Could not get detector layout for stations [2003, 2004, 2005, 2008, 2001, 2002], defaults will be used!\n",
      "  'defaults will be used!' % str(missing_detectors))\n"
     ]
    }
   ],
   "source": [
    "from __future__ import division, print_function\n",
    "\n",
    "\n",
    "from datetime import datetime\n",
    "import numpy as np\n",
    "import matplotlib.pyplot as plt\n",
    "import tables\n",
    "from sapphire import (download_coincidences, ReconstructESDCoincidences, HiSPARCStations)\n",
    "from sapphire.utils import pbar\n",
    "from sapphire.transformations.celestial import zenithazimuth_to_equatorial\n",
    "import os\n",
    "import time\n",
    "import pandas as pd\n",
    "\n",
    "\n",
    "DATAFILE = 'coinc.h5'\n",
    "STATIONS = [2003, 2004, 2005, 2008, 2001, 2002, 2006]\n",
    "\n",
    "show_events = False\n",
    "\n",
    "t0 = time.time()\n",
    "\n",
    "if __name__ == '__main__':\n",
    "    if 'data' not in globals():\n",
    "        # 'r+' an existing file is opened for reading and writing\n",
    "        print('Opening data file')\n",
    "        try:\n",
    "            data = tables.open_file(DATAFILE, 'r+')\n",
    "        except:\n",
    "            print('Could not open data file, exit()')\n",
    "            exit()\n",
    "            pass\n",
    "\n",
    "t1 = time.time()\n",
    "print('Opening data took: %.5f' % (t1-t0))\n",
    "print('Aantal coincidenties: %s' % len(data.root.coincidences.coincidences))\n",
    "\n",
    "recs = data.root.coincidences.reconstructions.read()\n",
    "theta = recs['zenith']\n",
    "recs = recs.compress(~np.isnan(theta))\n",
    "\n",
    "t2 = time.time()\n",
    "print('Removing NaNs from recs[theta] took: %.5f' % (t2-t1))\n",
    "\n",
    "print(\"Aantal reconstructions : %.2f \" % (len(recs)))\n",
    "\n",
    "lla = HiSPARCStations(STATIONS).get_lla_coordinates()\n",
    "lat, lon, alt = lla\n",
    "\n",
    "t3 = time.time()\n",
    "print('get_lla_coordinates() took: %.5f' % (t3-t2))"
   ]
  },
  {
   "cell_type": "code",
   "execution_count": 31,
   "metadata": {},
   "outputs": [
    {
     "name": "stderr",
     "output_type": "stream",
     "text": [
      "100%|############################################################|Time: 0:02:14\n"
     ]
    },
    {
     "name": "stdout",
     "output_type": "stream",
     "text": [
      "Creating events = np.array(events) took: 827.45017\n",
      "RA & DEC naar degrees omzetten took: 0.03266\n",
      "Total runtime: 831.48\n"
     ]
    }
   ],
   "source": [
    "events = []\n",
    "for rec in pbar(recs):\n",
    "    # omzetten naar 1 functie die matrix rekening doet? 1.5mil punten duurd 3 minuten\n",
    "    timestamp = rec['ext_timestamp'] / 1.e9\n",
    "    theta = rec['zenith']\n",
    "    phi = rec['azimuth']\n",
    "    r, d = zenithazimuth_to_equatorial(lat, lon, timestamp, theta, phi)  # Zelf maken zodat het sneller gaat?\n",
    "    events.append((r-np.pi, d))\n",
    "events = np.array(events)\n",
    "\n",
    "t4 = time.time()\n",
    "print('Creating events = np.array(events) took: %.5f' % (t4 - t3))\n",
    "\n",
    "ra = np.degrees(events[:, 0])\n",
    "\n",
    "dec = np.degrees(events[:, 1])\n",
    "\n",
    "t5 = time.time()\n",
    "print('RA & DEC naar degrees omzetten took: %.5f' % (t5 - t4))\n",
    "\n",
    "\n",
    "t6 = time.time()\n",
    "print('Total runtime: %.2f' % (t6-t0))\n",
    "\n",
    "np.savetxt(\"data\\\\ra_dec.csv\", events, delimiter=\"\\t\")"
   ]
  },
  {
   "cell_type": "code",
   "execution_count": 37,
   "metadata": {},
   "outputs": [
    {
     "name": "stdout",
     "output_type": "stream",
     "text": [
      "[-1.28414111 -2.21779013 -1.47520065 ... -1.86391576 -1.28094496\n",
      " -1.08979931]\n"
     ]
    }
   ],
   "source": [
    "events = np.loadtxt(\"data\\\\ra_dec.csv\")"
   ]
  },
  {
   "cell_type": "code",
   "execution_count": 38,
   "metadata": {},
   "outputs": [
    {
     "name": "stdout",
     "output_type": "stream",
     "text": [
      "[ -73.5758658  -127.07001411  -84.52277097 ... -106.79450628  -73.39273985\n",
      "  -62.44090096]\n"
     ]
    }
   ],
   "source": []
  },
  {
   "cell_type": "code",
   "execution_count": null,
   "metadata": {},
   "outputs": [],
   "source": []
  }
 ],
 "metadata": {
  "kernelspec": {
   "display_name": "Python 3",
   "language": "python",
   "name": "python3"
  },
  "language_info": {
   "codemirror_mode": {
    "name": "ipython",
    "version": 3
   },
   "file_extension": ".py",
   "mimetype": "text/x-python",
   "name": "python",
   "nbconvert_exporter": "python",
   "pygments_lexer": "ipython3",
   "version": "3.6.0"
  }
 },
 "nbformat": 4,
 "nbformat_minor": 1
}
