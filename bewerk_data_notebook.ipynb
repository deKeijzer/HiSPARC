{
 "cells": [
  {
   "cell_type": "code",
   "execution_count": null,
   "metadata": {
    "collapsed": false
   },
   "outputs": [
    {
     "name": "stdout",
     "output_type": "stream",
     "text": [
      "Opening data file\nCould not open data file, exit()\nOpening data file\nCould not open data file, exit()\nOpening data took: 0.00100\n"
     ]
    },
    {
     "ename": "NameError",
     "evalue": "name 'data' is not defined",
     "traceback": [
      "\u001b[0;31m---------------------------------------------------------------------------\u001b[0m",
      "\u001b[0;31mNameError\u001b[0m                                 Traceback (most recent call last)",
      "\u001b[0;32m<ipython-input-1-5790155abc15>\u001b[0m in \u001b[0;36m<module>\u001b[0;34m()\u001b[0m\n\u001b[1;32m     39\u001b[0m \u001b[0mt1\u001b[0m \u001b[0;34m=\u001b[0m \u001b[0mtime\u001b[0m\u001b[0;34m.\u001b[0m\u001b[0mtime\u001b[0m\u001b[0;34m(\u001b[0m\u001b[0;34m)\u001b[0m\u001b[0;34m\u001b[0m\u001b[0m\n\u001b[1;32m     40\u001b[0m \u001b[0mprint\u001b[0m\u001b[0;34m(\u001b[0m\u001b[0;34m'Opening data took: %.5f'\u001b[0m \u001b[0;34m%\u001b[0m \u001b[0;34m(\u001b[0m\u001b[0mt1\u001b[0m\u001b[0;34m-\u001b[0m\u001b[0mt0\u001b[0m\u001b[0;34m)\u001b[0m\u001b[0;34m)\u001b[0m\u001b[0;34m\u001b[0m\u001b[0m\n\u001b[0;32m---> 41\u001b[0;31m \u001b[0mprint\u001b[0m\u001b[0;34m(\u001b[0m\u001b[0;34m'Aantal coincidenties: %s'\u001b[0m \u001b[0;34m%\u001b[0m \u001b[0mlen\u001b[0m\u001b[0;34m(\u001b[0m\u001b[0mdata\u001b[0m\u001b[0;34m.\u001b[0m\u001b[0mroot\u001b[0m\u001b[0;34m.\u001b[0m\u001b[0mcoincidences\u001b[0m\u001b[0;34m.\u001b[0m\u001b[0mcoincidences\u001b[0m\u001b[0;34m)\u001b[0m\u001b[0;34m)\u001b[0m\u001b[0;34m\u001b[0m\u001b[0m\n\u001b[0m\u001b[1;32m     42\u001b[0m \u001b[0;34m\u001b[0m\u001b[0m\n\u001b[1;32m     43\u001b[0m \u001b[0mrecs\u001b[0m \u001b[0;34m=\u001b[0m \u001b[0mdata\u001b[0m\u001b[0;34m.\u001b[0m\u001b[0mroot\u001b[0m\u001b[0;34m.\u001b[0m\u001b[0mcoincidences\u001b[0m\u001b[0;34m.\u001b[0m\u001b[0mreconstructions\u001b[0m\u001b[0;34m.\u001b[0m\u001b[0mread\u001b[0m\u001b[0;34m(\u001b[0m\u001b[0;34m)\u001b[0m\u001b[0;34m\u001b[0m\u001b[0m\n",
      "\u001b[0;31mNameError\u001b[0m: name 'data' is not defined"
     ],
     "output_type": "error"
    }
   ],
   "source": [
    "from __future__ import division, print_function\n",
    "\n",
    "from datetime import datetime\n",
    "import numpy as np\n",
    "import matplotlib.pyplot as plt\n",
    "import tables\n",
    "from sapphire import (download_coincidences, ReconstructESDCoincidences, HiSPARCStations)\n",
    "from sapphire.utils import pbar\n",
    "from sapphire.transformations.celestial import zenithazimuth_to_equatorial\n",
    "import os\n",
    "import time\n",
    "\n",
    "DATAFILE = 'coinc.h5'\n",
    "STATIONS = [2003, 2004, 2005, 2008, 2001, 2002, 2006]\n",
    "\n",
    "show_events = False\n",
    "\n",
    "t0 = time.time()\n",
    "\n",
    "if __name__ == '__main__':\n",
    "    if 'data' not in globals():\n",
    "        # 'r+' an existing file is opened for reading and writing\n",
    "        print('Opening data file')\n",
    "        try:\n",
    "            data = tables.open_file(DATAFILE, 'r+')\n",
    "        except:\n",
    "            print('Could not open data file, exit()')\n",
    "            exit()\n",
    "            pass\n",
    "\n",
    "t1 = time.time()\n",
    "print('Opening data took: %.5f' % (t1-t0))\n",
    "print('Aantal coincidenties: %s' % len(data.root.coincidences.coincidences))\n",
    "\n",
    "recs = data.root.coincidences.reconstructions.read()\n",
    "theta = recs['zenith']\n",
    "recs = recs.compress(~np.isnan(theta))\n",
    "\n",
    "t2 = time.time()\n",
    "print('Removing NaNs from recs[theta] took: %.5f' % (t2-t1))\n",
    "\n",
    "print(\"Aantal reconstructions : %.2f \" % (len(recs)))\n",
    "\n",
    "lla = HiSPARCStations(STATIONS).get_lla_coordinates()\n",
    "lat, lon, alt = lla\n",
    "\n",
    "t3 = time.time()\n",
    "print('get_lla_coordinates() took: %.5f' % (t3-t2))"
   ]
  },
  {
   "cell_type": "code",
   "execution_count": 1,
   "metadata": {},
   "outputs": [
    {
     "ename": "NameError",
     "evalue": "name 'pbar' is not defined",
     "traceback": [
      "\u001b[0;31m---------------------------------------------------------------------------\u001b[0m",
      "\u001b[0;31mNameError\u001b[0m                                 Traceback (most recent call last)",
      "\u001b[0;32m<ipython-input-1-91bd70f61398>\u001b[0m in \u001b[0;36m<module>\u001b[0;34m()\u001b[0m\n\u001b[1;32m      1\u001b[0m \u001b[0mevents\u001b[0m \u001b[0;34m=\u001b[0m \u001b[0;34m[\u001b[0m\u001b[0;34m]\u001b[0m\u001b[0;34m\u001b[0m\u001b[0m\n\u001b[0;32m----> 2\u001b[0;31m \u001b[0;32mfor\u001b[0m \u001b[0mrec\u001b[0m \u001b[0;32min\u001b[0m \u001b[0mpbar\u001b[0m\u001b[0;34m(\u001b[0m\u001b[0mrecs\u001b[0m\u001b[0;34m)\u001b[0m\u001b[0;34m:\u001b[0m\u001b[0;34m\u001b[0m\u001b[0m\n\u001b[0m\u001b[1;32m      3\u001b[0m     \u001b[0mtimestamp\u001b[0m \u001b[0;34m=\u001b[0m \u001b[0mrec\u001b[0m\u001b[0;34m[\u001b[0m\u001b[0;34m'ext_timestamp'\u001b[0m\u001b[0;34m]\u001b[0m \u001b[0;34m/\u001b[0m \u001b[0;36m1.e9\u001b[0m\u001b[0;34m\u001b[0m\u001b[0m\n\u001b[1;32m      4\u001b[0m     \u001b[0mtheta\u001b[0m \u001b[0;34m=\u001b[0m \u001b[0mrec\u001b[0m\u001b[0;34m[\u001b[0m\u001b[0;34m'zenith'\u001b[0m\u001b[0;34m]\u001b[0m\u001b[0;34m\u001b[0m\u001b[0m\n\u001b[1;32m      5\u001b[0m     \u001b[0mphi\u001b[0m \u001b[0;34m=\u001b[0m \u001b[0mrec\u001b[0m\u001b[0;34m[\u001b[0m\u001b[0;34m'azimuth'\u001b[0m\u001b[0;34m]\u001b[0m\u001b[0;34m\u001b[0m\u001b[0m\n",
      "\u001b[0;31mNameError\u001b[0m: name 'pbar' is not defined"
     ],
     "output_type": "error"
    }
   ],
   "source": [
    "events = []\n",
    "for rec in pbar(recs):\n",
    "    timestamp = rec['ext_timestamp'] / 1.e9\n",
    "    theta = rec['zenith']\n",
    "    phi = rec['azimuth']\n",
    "    r, d = zenithazimuth_to_equatorial(lat, lon, timestamp, theta, phi)  # Zelf maken zodat het sneller gaat?\n",
    "    events.append((r-np.pi, d))\n",
    "events = np.array(events)\n",
    "\n",
    "t4 = time.time()\n",
    "print('Creating events = np.array(events) took: %.5f' % (t4 - t3))\n",
    "\n",
    "ra = np.degrees(events[:, 0])\n",
    "\n",
    "dec = np.degrees(events[:, 1])\n",
    "\n",
    "t5 = time.time()\n",
    "print('RA & DEC naar degrees omzetten took: %.5f' % (t5 - t4))\n",
    "\n",
    "\n",
    "t6 = time.time()\n",
    "print('Total runtime: %.2f' % (t6-t0))"
   ]
  },
  {
   "cell_type": "code",
   "execution_count": 2,
   "metadata": {},
   "outputs": [],
   "source": []
  },
  {
   "cell_type": "code",
   "execution_count": null,
   "metadata": {},
   "outputs": [],
   "source": []
  }
 ],
 "metadata": {
  "kernelspec": {
   "display_name": "Python 2",
   "language": "python",
   "name": "python2"
  },
  "language_info": {
   "codemirror_mode": {
    "name": "ipython",
    "version": 2
   },
   "file_extension": ".py",
   "mimetype": "text/x-python",
   "name": "python",
   "nbconvert_exporter": "python",
   "pygments_lexer": "ipython2",
   "version": "2.7.6"
  }
 },
 "nbformat": 4,
 "nbformat_minor": 0
}
